{
 "cells": [
  {
   "cell_type": "markdown",
   "metadata": {
    "id": "H--FsE2c6Bzf"
   },
   "source": [
    "#MNIST dataset"
   ]
  },
  {
   "cell_type": "code",
   "execution_count": 1,
   "metadata": {
    "executionInfo": {
     "elapsed": 1379,
     "status": "ok",
     "timestamp": 1687954767640,
     "user": {
      "displayName": "김찬우",
      "userId": "12278078749540262797"
     },
     "user_tz": -540
    },
    "id": "YkcmPC0nrH7B"
   },
   "outputs": [],
   "source": [
    "from sklearn.datasets import fetch_openml"
   ]
  },
  {
   "cell_type": "code",
   "execution_count": 2,
   "metadata": {
    "executionInfo": {
     "elapsed": 6,
     "status": "ok",
     "timestamp": 1687954767640,
     "user": {
      "displayName": "김찬우",
      "userId": "12278078749540262797"
     },
     "user_tz": -540
    },
    "id": "p-hgyOW2v9AD"
   },
   "outputs": [],
   "source": [
    "import matplotlib as mpl\n",
    "import matplotlib.pyplot as plt"
   ]
  },
  {
   "cell_type": "code",
   "execution_count": 3,
   "metadata": {
    "executionInfo": {
     "elapsed": 7,
     "status": "ok",
     "timestamp": 1687954767641,
     "user": {
      "displayName": "김찬우",
      "userId": "12278078749540262797"
     },
     "user_tz": -540
    },
    "id": "pP6IXJVd1kQ1"
   },
   "outputs": [],
   "source": [
    "import numpy as np"
   ]
  },
  {
   "cell_type": "code",
   "execution_count": 4,
   "metadata": {
    "colab": {
     "base_uri": "https://localhost:8080/"
    },
    "executionInfo": {
     "elapsed": 32909,
     "status": "ok",
     "timestamp": 1687954800543,
     "user": {
      "displayName": "김찬우",
      "userId": "12278078749540262797"
     },
     "user_tz": -540
    },
    "id": "VbJa5wG2tUub",
    "outputId": "e3fd79cb-1adc-466f-c896-f1c2fc82fa67"
   },
   "outputs": [
    {
     "name": "stderr",
     "output_type": "stream",
     "text": [
      "/opt/homebrew/lib/python3.11/site-packages/sklearn/datasets/_openml.py:968: FutureWarning: The default value of `parser` will change from `'liac-arff'` to `'auto'` in 1.4. You can set `parser='auto'` to silence this warning. Therefore, an `ImportError` will be raised from 1.4 if the dataset is dense and pandas is not installed. Note that the pandas parser may return different data types. See the Notes Section in fetch_openml's API doc for details.\n",
      "  warn(\n"
     ]
    },
    {
     "name": "stdout",
     "output_type": "stream",
     "text": [
      "dict_keys(['data', 'target', 'frame', 'categories', 'feature_names', 'target_names', 'DESCR', 'details', 'url'])\n"
     ]
    }
   ],
   "source": [
    "mnist = fetch_openml('mnist_784', version=1, as_frame=False)\n",
    "print(mnist.keys())"
   ]
  },
  {
   "cell_type": "code",
   "execution_count": 5,
   "metadata": {
    "colab": {
     "base_uri": "https://localhost:8080/"
    },
    "executionInfo": {
     "elapsed": 31,
     "status": "ok",
     "timestamp": 1687954800544,
     "user": {
      "displayName": "김찬우",
      "userId": "12278078749540262797"
     },
     "user_tz": -540
    },
    "id": "hGUlPRlattMu",
    "outputId": "16d9dc3c-3f31-49f9-982a-e9f47594e8cc"
   },
   "outputs": [
    {
     "name": "stdout",
     "output_type": "stream",
     "text": [
      "(70000, 784) (70000,)\n"
     ]
    }
   ],
   "source": [
    "X, y = mnist[\"data\"], mnist[\"target\"]\n",
    "y = y.astype(np.uint8)\n",
    "print(X.shape, y.shape)\n",
    "\n",
    "#총 70000개의 데이터\n",
    "#각각의 데이터는 28*28 크기의 이미지"
   ]
  },
  {
   "cell_type": "code",
   "execution_count": 6,
   "metadata": {
    "colab": {
     "base_uri": "https://localhost:8080/",
     "height": 448
    },
    "executionInfo": {
     "elapsed": 26,
     "status": "ok",
     "timestamp": 1687954800545,
     "user": {
      "displayName": "김찬우",
      "userId": "12278078749540262797"
     },
     "user_tz": -540
    },
    "id": "qV1YLsI1v40C",
    "outputId": "df58eabd-0238-4b6d-9954-568112669a8b",
    "scrolled": false
   },
   "outputs": [
    {
     "data": {
      "image/png": "[encoded data removed]",
      "text/plain": [
       "<Figure size 640x480 with 1 Axes>"
      ]
     },
     "metadata": {},
     "output_type": "display_data"
    },
    {
     "data": {
      "text/plain": [
       "5"
      ]
     },
     "execution_count": 6,
     "metadata": {},
     "output_type": "execute_result"
    }
   ],
   "source": [
    "some_digit = X[0]\n",
    "some_digit_image = some_digit.reshape(28, 28)\n",
    "\n",
    "plt.imshow(some_digit_image, cmap=\"binary\")\n",
    "plt.show()\n",
    "\n",
    "y[0]"
   ]
  },
  {
   "cell_type": "markdown",
   "metadata": {
    "id": "K29uCFEF6Qi9"
   },
   "source": [
    "#SGDClassifier\n",
    "이진 분류기"
   ]
  },
  {
   "cell_type": "code",
   "execution_count": 7,
   "metadata": {
    "executionInfo": {
     "elapsed": 23,
     "status": "ok",
     "timestamp": 1687954800545,
     "user": {
      "displayName": "김찬우",
      "userId": "12278078749540262797"
     },
     "user_tz": -540
    },
    "id": "g-7JDb0J09vc"
   },
   "outputs": [],
   "source": [
    "train_size, test_size = 60000, 10000\n",
    "X_train, X_test = X[:train_size], X[train_size:]\n",
    "y_train, y_test = y[:train_size], y[train_size:]"
   ]
  },
  {
   "cell_type": "code",
   "execution_count": 8,
   "metadata": {
    "executionInfo": {
     "elapsed": 22,
     "status": "ok",
     "timestamp": 1687954800545,
     "user": {
      "displayName": "김찬우",
      "userId": "12278078749540262797"
     },
     "user_tz": -540
    },
    "id": "rxcXxtg-3CUj"
   },
   "outputs": [],
   "source": [
    "y_train_5 = (y_train == 5)\n",
    "y_test_5 = (y_test == 5)"
   ]
  },
  {
   "cell_type": "code",
   "execution_count": 9,
   "metadata": {
    "executionInfo": {
     "elapsed": 21,
     "status": "ok",
     "timestamp": 1687954800545,
     "user": {
      "displayName": "김찬우",
      "userId": "12278078749540262797"
     },
     "user_tz": -540
    },
    "id": "9kWRDTCg39q2"
   },
   "outputs": [],
   "source": [
    "from sklearn.linear_model import SGDClassifier"
   ]
  },
  {
   "cell_type": "code",
   "execution_count": 10,
   "metadata": {
    "colab": {
     "base_uri": "https://localhost:8080/",
     "height": 74
    },
    "executionInfo": {
     "elapsed": 19903,
     "status": "ok",
     "timestamp": 1687954820427,
     "user": {
      "displayName": "김찬우",
      "userId": "12278078749540262797"
     },
     "user_tz": -540
    },
    "id": "UjBcvd4e4Ku0",
    "outputId": "047346af-a9b6-44ee-811a-45136e91137b"
   },
   "outputs": [
    {
     "data": {
      "text/html": [
       "<style>#sk-container-id-1 {color: black;background-color: white;}#sk-container-id-1 pre{padding: 0;}#sk-container-id-1 div.sk-toggleable {background-color: white;}#sk-container-id-1 label.sk-toggleable__label {cursor: pointer;display: block;width: 100%;margin-bottom: 0;padding: 0.3em;box-sizing: border-box;text-align: center;}#sk-container-id-1 label.sk-toggleable__label-arrow:before {content: \"▸\";float: left;margin-right: 0.25em;color: #696969;}#sk-container-id-1 label.sk-toggleable__label-arrow:hover:before {color: black;}#sk-container-id-1 div.sk-estimator:hover label.sk-toggleable__label-arrow:before {color: black;}#sk-container-id-1 div.sk-toggleable__content {max-height: 0;max-width: 0;overflow: hidden;text-align: left;background-color: #f0f8ff;}#sk-container-id-1 div.sk-toggleable__content pre {margin: 0.2em;color: black;border-radius: 0.25em;background-color: #f0f8ff;}#sk-container-id-1 input.sk-toggleable__control:checked~div.sk-toggleable__content {max-height: 200px;max-width: 100%;overflow: auto;}#sk-container-id-1 input.sk-toggleable__control:checked~label.sk-toggleable__label-arrow:before {content: \"▾\";}#sk-container-id-1 div.sk-estimator input.sk-toggleable__control:checked~label.sk-toggleable__label {background-color: #d4ebff;}#sk-container-id-1 div.sk-label input.sk-toggleable__control:checked~label.sk-toggleable__label {background-color: #d4ebff;}#sk-container-id-1 input.sk-hidden--visually {border: 0;clip: rect(1px 1px 1px 1px);clip: rect(1px, 1px, 1px, 1px);height: 1px;margin: -1px;overflow: hidden;padding: 0;position: absolute;width: 1px;}#sk-container-id-1 div.sk-estimator {font-family: monospace;background-color: #f0f8ff;border: 1px dotted black;border-radius: 0.25em;box-sizing: border-box;margin-bottom: 0.5em;}#sk-container-id-1 div.sk-estimator:hover {background-color: #d4ebff;}#sk-container-id-1 div.sk-parallel-item::after {content: \"\";width: 100%;border-bottom: 1px solid gray;flex-grow: 1;}#sk-container-id-1 div.sk-label:hover label.sk-toggleable__label {background-color: #d4ebff;}#sk-container-id-1 div.sk-serial::before {content: \"\";position: absolute;border-left: 1px solid gray;box-sizing: border-box;top: 0;bottom: 0;left: 50%;z-index: 0;}#sk-container-id-1 div.sk-serial {display: flex;flex-direction: column;align-items: center;background-color: white;padding-right: 0.2em;padding-left: 0.2em;position: relative;}#sk-container-id-1 div.sk-item {position: relative;z-index: 1;}#sk-container-id-1 div.sk-parallel {display: flex;align-items: stretch;justify-content: center;background-color: white;position: relative;}#sk-container-id-1 div.sk-item::before, #sk-container-id-1 div.sk-parallel-item::before {content: \"\";position: absolute;border-left: 1px solid gray;box-sizing: border-box;top: 0;bottom: 0;left: 50%;z-index: -1;}#sk-container-id-1 div.sk-parallel-item {display: flex;flex-direction: column;z-index: 1;position: relative;background-color: white;}#sk-container-id-1 div.sk-parallel-item:first-child::after {align-self: flex-end;width: 50%;}#sk-container-id-1 div.sk-parallel-item:last-child::after {align-self: flex-start;width: 50%;}#sk-container-id-1 div.sk-parallel-item:only-child::after {width: 0;}#sk-container-id-1 div.sk-dashed-wrapped {border: 1px dashed gray;margin: 0 0.4em 0.5em 0.4em;box-sizing: border-box;padding-bottom: 0.4em;background-color: white;}#sk-container-id-1 div.sk-label label {font-family: monospace;font-weight: bold;display: inline-block;line-height: 1.2em;}#sk-container-id-1 div.sk-label-container {text-align: center;}#sk-container-id-1 div.sk-container {/* jupyter's `normalize.less` sets `[hidden] { display: none; }` but bootstrap.min.css set `[hidden] { display: none !important; }` so we also need the `!important` here to be able to override the default hidden behavior on the sphinx rendered scikit-learn.org. See: https://github.com/scikit-learn/scikit-learn/issues/21755 */display: inline-block !important;position: relative;}#sk-container-id-1 div.sk-text-repr-fallback {display: none;}</style><div id=\"sk-container-id-1\" class=\"sk-top-container\"><div class=\"sk-text-repr-fallback\"><pre>SGDClassifier(random_state=42)</pre><b>In a Jupyter environment, please rerun this cell to show the HTML representation or trust the notebook. <br />On GitHub, the HTML representation is unable to render, please try loading this page with nbviewer.org.</b></div><div class=\"sk-container\" hidden><div class=\"sk-item\"><div class=\"sk-estimator sk-toggleable\"><input class=\"sk-toggleable__control sk-hidden--visually\" id=\"sk-estimator-id-1\" type=\"checkbox\" checked><label for=\"sk-estimator-id-1\" class=\"sk-toggleable__label sk-toggleable__label-arrow\">SGDClassifier</label><div class=\"sk-toggleable__content\"><pre>SGDClassifier(random_state=42)</pre></div></div></div></div></div>"
      ],
      "text/plain": [
       "SGDClassifier(random_state=42)"
      ]
     },
     "execution_count": 10,
     "metadata": {},
     "output_type": "execute_result"
    }
   ],
   "source": [
    "sgd_clf = SGDClassifier(random_state=42)\n",
    "sgd_clf.fit(X_train, y_train_5)"
   ]
  },
  {
   "cell_type": "code",
   "execution_count": 11,
   "metadata": {
    "colab": {
     "base_uri": "https://localhost:8080/"
    },
    "executionInfo": {
     "elapsed": 26,
     "status": "ok",
     "timestamp": 1687954820428,
     "user": {
      "displayName": "김찬우",
      "userId": "12278078749540262797"
     },
     "user_tz": -540
    },
    "id": "KRK7q3hI5Rw5",
    "outputId": "c9049841-8779-4f80-e020-6033bcc5539c"
   },
   "outputs": [
    {
     "data": {
      "text/plain": [
       "array([ True])"
      ]
     },
     "execution_count": 11,
     "metadata": {},
     "output_type": "execute_result"
    }
   ],
   "source": [
    "sgd_clf.predict([some_digit])"
   ]
  },
  {
   "cell_type": "markdown",
   "metadata": {
    "id": "9DcALp3Q9JvM"
   },
   "source": [
    "# 성능 측정"
   ]
  },
  {
   "cell_type": "markdown",
   "metadata": {
    "id": "YTR-TDeOBcjV"
   },
   "source": [
    "### 교차 검증"
   ]
  },
  {
   "cell_type": "code",
   "execution_count": 12,
   "metadata": {
    "executionInfo": {
     "elapsed": 22,
     "status": "ok",
     "timestamp": 1687954820428,
     "user": {
      "displayName": "김찬우",
      "userId": "12278078749540262797"
     },
     "user_tz": -540
    },
    "id": "dgJpqeI89Mqm"
   },
   "outputs": [],
   "source": [
    "from sklearn.model_selection import cross_val_score"
   ]
  },
  {
   "cell_type": "code",
   "execution_count": 13,
   "metadata": {
    "colab": {
     "base_uri": "https://localhost:8080/"
    },
    "executionInfo": {
     "elapsed": 26181,
     "status": "ok",
     "timestamp": 1687954846588,
     "user": {
      "displayName": "김찬우",
      "userId": "12278078749540262797"
     },
     "user_tz": -540
    },
    "id": "gTI4DSWI9Vrp",
    "outputId": "c94a0654-ec39-4ea3-bf7d-700efeb35c00"
   },
   "outputs": [
    {
     "data": {
      "text/plain": [
       "array([0.95035, 0.96035, 0.9604 ])"
      ]
     },
     "execution_count": 13,
     "metadata": {},
     "output_type": "execute_result"
    }
   ],
   "source": [
    "cross_val_score(sgd_clf, X_train, y_train_5, cv=3, scoring=\"accuracy\")"
   ]
  },
  {
   "cell_type": "code",
   "execution_count": 14,
   "metadata": {
    "executionInfo": {
     "elapsed": 12,
     "status": "ok",
     "timestamp": 1687954846588,
     "user": {
      "displayName": "김찬우",
      "userId": "12278078749540262797"
     },
     "user_tz": -540
    },
    "id": "mhzHiAeq90Ld"
   },
   "outputs": [],
   "source": [
    "#무조건 false 반환하는 모델\n",
    "\n",
    "from sklearn.base import BaseEstimator\n",
    "\n",
    "class Never5Classifier(BaseEstimator):\n",
    "    def fit(self, X, y=None):\n",
    "        return self\n",
    "    def predict(self, X):\n",
    "        return np.zeros((len(X), 1), dtype=bool)"
   ]
  },
  {
   "cell_type": "code",
   "execution_count": 15,
   "metadata": {
    "colab": {
     "base_uri": "https://localhost:8080/"
    },
    "executionInfo": {
     "elapsed": 654,
     "status": "ok",
     "timestamp": 1687954847232,
     "user": {
      "displayName": "김찬우",
      "userId": "12278078749540262797"
     },
     "user_tz": -540
    },
    "id": "x7SoxYG5-bx_",
    "outputId": "134436f1-44cf-4763-d609-2fd902a46a44"
   },
   "outputs": [
    {
     "data": {
      "text/plain": [
       "array([0.91125, 0.90855, 0.90915])"
      ]
     },
     "execution_count": 15,
     "metadata": {},
     "output_type": "execute_result"
    }
   ],
   "source": [
    "never_5_clf = Never5Classifier()\n",
    "cross_val_score(never_5_clf, X_train, y_train_5, cv=3, scoring=\"accuracy\")\n",
    "\n",
    "#무조건 5가아님으로 분류하면 평균적으로 90%의 확률이다\n",
    "#불균형한 데이터셋에서 '정확도'를 성능 측정 지표로 선호하지 않는 이유"
   ]
  },
  {
   "cell_type": "markdown",
   "metadata": {
    "id": "KWQWhkFvBgzc"
   },
   "source": [
    "### 오차 행렬"
   ]
  },
  {
   "cell_type": "code",
   "execution_count": 16,
   "metadata": {
    "executionInfo": {
     "elapsed": 12,
     "status": "ok",
     "timestamp": 1687954847233,
     "user": {
      "displayName": "김찬우",
      "userId": "12278078749540262797"
     },
     "user_tz": -540
    },
    "id": "y5pHGTn7BiTi"
   },
   "outputs": [],
   "source": [
    "from sklearn.model_selection import cross_val_predict"
   ]
  },
  {
   "cell_type": "code",
   "execution_count": 17,
   "metadata": {
    "executionInfo": {
     "elapsed": 26283,
     "status": "ok",
     "timestamp": 1687954873505,
     "user": {
      "displayName": "김찬우",
      "userId": "12278078749540262797"
     },
     "user_tz": -540
    },
    "id": "pWOhiBJWBtur"
   },
   "outputs": [],
   "source": [
    "y_train_pred = cross_val_predict(sgd_clf, X_train, y_train_5, cv=3)"
   ]
  },
  {
   "cell_type": "code",
   "execution_count": 18,
   "metadata": {
    "executionInfo": {
     "elapsed": 47,
     "status": "ok",
     "timestamp": 1687954873505,
     "user": {
      "displayName": "김찬우",
      "userId": "12278078749540262797"
     },
     "user_tz": -540
    },
    "id": "6jpgljDJCiLG"
   },
   "outputs": [],
   "source": [
    "from sklearn.metrics import confusion_matrix"
   ]
  },
  {
   "cell_type": "code",
   "execution_count": 19,
   "metadata": {
    "colab": {
     "base_uri": "https://localhost:8080/"
    },
    "executionInfo": {
     "elapsed": 45,
     "status": "ok",
     "timestamp": 1687954873506,
     "user": {
      "displayName": "김찬우",
      "userId": "12278078749540262797"
     },
     "user_tz": -540
    },
    "id": "UyJq6G_uCobP",
    "outputId": "4c405a5a-a328-4322-f595-be31a70d49ee"
   },
   "outputs": [
    {
     "data": {
      "text/plain": [
       "array([[53892,   687],\n",
       "       [ 1891,  3530]])"
      ]
     },
     "execution_count": 19,
     "metadata": {},
     "output_type": "execute_result"
    }
   ],
   "source": [
    "confusion_matrix(y_train_5, y_train_pred)\n",
    "#행은 실제 클래스\n",
    "#열은 예측한 클래스"
   ]
  },
  {
   "cell_type": "code",
   "execution_count": 20,
   "metadata": {
    "colab": {
     "base_uri": "https://localhost:8080/"
    },
    "executionInfo": {
     "elapsed": 43,
     "status": "ok",
     "timestamp": 1687954873506,
     "user": {
      "displayName": "김찬우",
      "userId": "12278078749540262797"
     },
     "user_tz": -540
    },
    "id": "LA1-xa3SDPD5",
    "outputId": "884de413-cab0-4c79-9aa5-627be3912f6d"
   },
   "outputs": [
    {
     "data": {
      "text/plain": [
       "array([[54579,     0],\n",
       "       [    0,  5421]])"
      ]
     },
     "execution_count": 20,
     "metadata": {},
     "output_type": "execute_result"
    }
   ],
   "source": [
    "y_train_perfect_predictions = y_train_5\n",
    "confusion_matrix(y_train_5, y_train_perfect_predictions)\n",
    "#완벽한 분류기"
   ]
  },
  {
   "cell_type": "markdown",
   "metadata": {
    "id": "gkHITKw0ELVq"
   },
   "source": [
    "정밀도 = TP/(TP+FP)  \n",
    "재현율 = TP/(TP+FN)"
   ]
  },
  {
   "cell_type": "code",
   "execution_count": 21,
   "metadata": {
    "executionInfo": {
     "elapsed": 35,
     "status": "ok",
     "timestamp": 1687954873506,
     "user": {
      "displayName": "김찬우",
      "userId": "12278078749540262797"
     },
     "user_tz": -540
    },
    "id": "qmzq63HTE2kG"
   },
   "outputs": [],
   "source": [
    "from sklearn.metrics import precision_score, recall_score"
   ]
  },
  {
   "cell_type": "code",
   "execution_count": 22,
   "metadata": {
    "colab": {
     "base_uri": "https://localhost:8080/"
    },
    "executionInfo": {
     "elapsed": 34,
     "status": "ok",
     "timestamp": 1687954873506,
     "user": {
      "displayName": "김찬우",
      "userId": "12278078749540262797"
     },
     "user_tz": -540
    },
    "id": "RT75-9JtFHhr",
    "outputId": "ab478645-69e5-46be-8ca1-dfa31ed54d85"
   },
   "outputs": [
    {
     "name": "stdout",
     "output_type": "stream",
     "text": [
      "0.8370879772350012 0.6511713705958311\n"
     ]
    }
   ],
   "source": [
    "pscore = precision_score(y_train_5, y_train_pred)\n",
    "rscore = recall_score(y_train_5, y_train_pred)\n",
    "print(pscore, rscore)"
   ]
  },
  {
   "cell_type": "markdown",
   "metadata": {
    "id": "w5B-uFhzFyKs"
   },
   "source": [
    "F1 score = 2/(1/정밀도 + 1/재현율)  \n",
    "정밀도와 재현율이 비슷할 떄 F1 score 높음"
   ]
  },
  {
   "cell_type": "code",
   "execution_count": 23,
   "metadata": {
    "executionInfo": {
     "elapsed": 28,
     "status": "ok",
     "timestamp": 1687954873506,
     "user": {
      "displayName": "김찬우",
      "userId": "12278078749540262797"
     },
     "user_tz": -540
    },
    "id": "zFekU8T5F7XX"
   },
   "outputs": [],
   "source": [
    "from sklearn.metrics import f1_score"
   ]
  },
  {
   "cell_type": "code",
   "execution_count": 24,
   "metadata": {
    "colab": {
     "base_uri": "https://localhost:8080/"
    },
    "executionInfo": {
     "elapsed": 27,
     "status": "ok",
     "timestamp": 1687954873506,
     "user": {
      "displayName": "김찬우",
      "userId": "12278078749540262797"
     },
     "user_tz": -540
    },
    "id": "8TdwqJ46GJMe",
    "outputId": "e4a79024-67a9-454d-df64-c1fd9d161c7a"
   },
   "outputs": [
    {
     "data": {
      "text/plain": [
       "0.7325171197343846"
      ]
     },
     "execution_count": 24,
     "metadata": {},
     "output_type": "execute_result"
    }
   ],
   "source": [
    "f1_score(y_train_5, y_train_pred)"
   ]
  },
  {
   "cell_type": "markdown",
   "metadata": {
    "id": "YfTb1NAHtQSl"
   },
   "source": [
    "### 정밀도/재현율 트레이드오프\n",
    "SGDClassifier는 결정함수를 사용하여 각 샘플의 점수를 계산    \n",
    "샘플의 점수가 결정 임곗값보다 낮으면 음성, 높으면 양성"
   ]
  },
  {
   "cell_type": "code",
   "execution_count": 25,
   "metadata": {
    "colab": {
     "base_uri": "https://localhost:8080/"
    },
    "executionInfo": {
     "elapsed": 22,
     "status": "ok",
     "timestamp": 1687954873506,
     "user": {
      "displayName": "김찬우",
      "userId": "12278078749540262797"
     },
     "user_tz": -540
    },
    "id": "capCcZ6XGjv3",
    "outputId": "2b5f9318-a4ac-447c-8bbf-2b6162463e1e"
   },
   "outputs": [
    {
     "data": {
      "text/plain": [
       "array([2164.22030239])"
      ]
     },
     "execution_count": 25,
     "metadata": {},
     "output_type": "execute_result"
    }
   ],
   "source": [
    "y_scores = sgd_clf.decision_function([some_digit])\n",
    "y_scores"
   ]
  },
  {
   "cell_type": "code",
   "execution_count": 26,
   "metadata": {
    "colab": {
     "base_uri": "https://localhost:8080/"
    },
    "executionInfo": {
     "elapsed": 19,
     "status": "ok",
     "timestamp": 1687954873507,
     "user": {
      "displayName": "김찬우",
      "userId": "12278078749540262797"
     },
     "user_tz": -540
    },
    "id": "CCVPFIW4vfDr",
    "outputId": "fea0eec3-b301-4cfb-e6bc-30f4438e9679"
   },
   "outputs": [
    {
     "data": {
      "text/plain": [
       "array([ True])"
      ]
     },
     "execution_count": 26,
     "metadata": {},
     "output_type": "execute_result"
    }
   ],
   "source": [
    "threshold = 0\n",
    "y_some_digit_pred = (y_scores > threshold)\n",
    "y_some_digit_pred"
   ]
  },
  {
   "cell_type": "code",
   "execution_count": 27,
   "metadata": {
    "colab": {
     "base_uri": "https://localhost:8080/"
    },
    "executionInfo": {
     "elapsed": 14,
     "status": "ok",
     "timestamp": 1687954873507,
     "user": {
      "displayName": "김찬우",
      "userId": "12278078749540262797"
     },
     "user_tz": -540
    },
    "id": "GE-jNBqQwInG",
    "outputId": "29541ae1-ac21-4948-fcba-443ba464700d"
   },
   "outputs": [
    {
     "data": {
      "text/plain": [
       "array([False])"
      ]
     },
     "execution_count": 27,
     "metadata": {},
     "output_type": "execute_result"
    }
   ],
   "source": [
    "threshold = 8000\n",
    "y_some_digit_pred = (y_scores > threshold)\n",
    "y_some_digit_pred"
   ]
  },
  {
   "cell_type": "markdown",
   "metadata": {
    "id": "q2Rk-SFpwVni"
   },
   "source": [
    "threshold가 0일 때는 양성으로 분류했지만, threshold가 8000이 되면 음성으로 분류한다.     \n",
    "정밀도와 재현율 사이의 tradeoff가 존재!"
   ]
  },
  {
   "cell_type": "code",
   "execution_count": 28,
   "metadata": {
    "executionInfo": {
     "elapsed": 30050,
     "status": "ok",
     "timestamp": 1687954903547,
     "user": {
      "displayName": "김찬우",
      "userId": "12278078749540262797"
     },
     "user_tz": -540
    },
    "id": "x2n7eZF_wQ8G"
   },
   "outputs": [],
   "source": [
    "y_scores = cross_val_predict(sgd_clf, X_train, y_train_5, cv=3, method=\"decision_function\")"
   ]
  },
  {
   "cell_type": "code",
   "execution_count": 29,
   "metadata": {
    "executionInfo": {
     "elapsed": 16,
     "status": "ok",
     "timestamp": 1687954903548,
     "user": {
      "displayName": "김찬우",
      "userId": "12278078749540262797"
     },
     "user_tz": -540
    },
    "id": "jQ1MS1JUxLiZ"
   },
   "outputs": [],
   "source": [
    "from sklearn.metrics import precision_recall_curve\n",
    "precisions, recalls, thresholds = precision_recall_curve(y_train_5, y_scores)"
   ]
  },
  {
   "cell_type": "code",
   "execution_count": 30,
   "metadata": {
    "colab": {
     "base_uri": "https://localhost:8080/",
     "height": 449
    },
    "executionInfo": {
     "elapsed": 1073,
     "status": "ok",
     "timestamp": 1687954904608,
     "user": {
      "displayName": "김찬우",
      "userId": "12278078749540262797"
     },
     "user_tz": -540
    },
    "id": "kdblZse8xmzK",
    "outputId": "d58d08f0-ffb3-4de4-dd3c-1468eb14d820"
   },
   "outputs": [
    {
     "data": {
      "image/png": "[encoded data removed]",
      "text/plain": [
       "<Figure size 640x480 with 1 Axes>"
      ]
     },
     "metadata": {},
     "output_type": "display_data"
    }
   ],
   "source": [
    "def plot_precision_recall_vs_threshold(precisions, recalls, thresholds):\n",
    "    plt.plot(thresholds, precisions[:-1], \"b--\", label=\"precisions\")\n",
    "    plt.plot(thresholds, recalls[:-1], \"g-\", label=\"recalls\")\n",
    "    plt.legend()\n",
    "    plt.grid(visible=True)\n",
    "    plt.xlim(-45000, 45000)\n",
    "    plt.xlabel('threshold')\n",
    "\n",
    "plot_precision_recall_vs_threshold(precisions, recalls, thresholds)\n",
    "plt.show()"
   ]
  },
  {
   "cell_type": "code",
   "execution_count": 31,
   "metadata": {
    "colab": {
     "base_uri": "https://localhost:8080/",
     "height": 455
    },
    "executionInfo": {
     "elapsed": 29,
     "status": "ok",
     "timestamp": 1687954904608,
     "user": {
      "displayName": "김찬우",
      "userId": "12278078749540262797"
     },
     "user_tz": -540
    },
    "id": "Rpp9WVij0UxQ",
    "outputId": "5f7a56af-41c7-4034-e4d2-655e07851be5"
   },
   "outputs": [
    {
     "data": {
      "image/png": "[encoded data removed]",
      "text/plain": [
       "<Figure size 640x480 with 1 Axes>"
      ]
     },
     "metadata": {},
     "output_type": "display_data"
    }
   ],
   "source": [
    "def plot_precision_vs_recall(precisions, recalls):\n",
    "    plt.plot(recalls, precisions, \"b-\")\n",
    "    plt.grid(visible=True)\n",
    "    plt.axis([0, 1, 0, 1])\n",
    "    plt.xlabel('recall')\n",
    "    plt.ylabel('precision')\n",
    "\n",
    "plot_precision_vs_recall(precisions, recalls)\n",
    "plt.show()"
   ]
  },
  {
   "cell_type": "markdown",
   "metadata": {
    "id": "-gcXn3cy2xC9"
   },
   "source": [
    "재현율/정밀도 그래프의 기울기가 재현율 80%지점에서 급격히 떨어지기 시작한다.    \n",
    "기울기가 떨어지기 직전이 재현율 60% 지점의 임계값을 선택하는 것이 좋다"
   ]
  },
  {
   "cell_type": "code",
   "execution_count": 32,
   "metadata": {
    "executionInfo": {
     "elapsed": 27,
     "status": "ok",
     "timestamp": 1687954904608,
     "user": {
      "displayName": "김찬우",
      "userId": "12278078749540262797"
     },
     "user_tz": -540
    },
    "id": "Ha3OGNe-2tVP"
   },
   "outputs": [],
   "source": [
    "threshold_90_precision = thresholds[np.argmax(precisions >= 0.90)] #3370~\n",
    "y_train_pred_90 = (y_scores >= threshold_90_precision)"
   ]
  },
  {
   "cell_type": "code",
   "execution_count": 33,
   "metadata": {
    "colab": {
     "base_uri": "https://localhost:8080/"
    },
    "executionInfo": {
     "elapsed": 26,
     "status": "ok",
     "timestamp": 1687954904608,
     "user": {
      "displayName": "김찬우",
      "userId": "12278078749540262797"
     },
     "user_tz": -540
    },
    "id": "8qeGX-GJ4Y7j",
    "outputId": "423750d7-8300-4774-f43a-0e752f75a6e9"
   },
   "outputs": [
    {
     "data": {
      "text/plain": [
       "(0.9000345901072293, 0.4799852425751706)"
      ]
     },
     "execution_count": 33,
     "metadata": {},
     "output_type": "execute_result"
    }
   ],
   "source": [
    "ps = precision_score(y_train_5, y_train_pred_90)\n",
    "rs = recall_score(y_train_5, y_train_pred_90)\n",
    "ps, rs"
   ]
  },
  {
   "cell_type": "markdown",
   "metadata": {
    "id": "zZCvtPoA8dhA"
   },
   "source": [
    "### ROC 곡선\n",
    "receiver operating characteristic.  \n",
    "거짓 양성 비율(FPR)에 대한 진짜 양성 비율(TPR) 곡선  \n",
    "FPR = FP/(FP+TN)  \n",
    "TPR = TP/(TP+FN) -> 재현율"
   ]
  },
  {
   "cell_type": "code",
   "execution_count": 34,
   "metadata": {
    "executionInfo": {
     "elapsed": 20,
     "status": "ok",
     "timestamp": 1687954904608,
     "user": {
      "displayName": "김찬우",
      "userId": "12278078749540262797"
     },
     "user_tz": -540
    },
    "id": "BdGj04mk8gVO"
   },
   "outputs": [],
   "source": [
    "from sklearn.metrics import roc_curve\n",
    "\n",
    "fpr, tpr, thresholds = roc_curve(y_train_5, y_scores)"
   ]
  },
  {
   "cell_type": "code",
   "execution_count": 35,
   "metadata": {
    "colab": {
     "base_uri": "https://localhost:8080/",
     "height": 455
    },
    "executionInfo": {
     "elapsed": 20,
     "status": "ok",
     "timestamp": 1687954904609,
     "user": {
      "displayName": "김찬우",
      "userId": "12278078749540262797"
     },
     "user_tz": -540
    },
    "id": "L9oQInWV9B7Q",
    "outputId": "02b9c8d7-816f-4292-ea56-8e06855a79f5"
   },
   "outputs": [
    {
     "data": {
      "image/png": "[encoded data removed]",
      "text/plain": [
       "<Figure size 640x480 with 1 Axes>"
      ]
     },
     "metadata": {},
     "output_type": "display_data"
    }
   ],
   "source": [
    "def plot_roc_curve(fpr, tpr, label=None):\n",
    "    plt.plot(fpr, tpr, linewidth=2, label=label)\n",
    "    plt.plot([0,1], [0,1], 'k--')\n",
    "    plt.axis([0,1,0,1])\n",
    "    plt.grid(visible=True)\n",
    "    plt.xlabel('FPR')\n",
    "    plt.ylabel('TPR')\n",
    "\n",
    "plot_roc_curve(fpr, tpr)\n",
    "plt.show()"
   ]
  },
  {
   "cell_type": "markdown",
   "metadata": {
    "id": "DWeJPLM4JuSk"
   },
   "source": [
    "재현율이 높을수록 FPR 증가! (tradeoff!!!)  \n",
    "좋은 분류기는 점선에서 최대한 멀리 떨어져 있어야 한다.   \n",
    "완벽한 분류기 -> AUC = 1  \n",
    "완전한 랜덤 분류기 -> AUC = 0.5"
   ]
  },
  {
   "cell_type": "code",
   "execution_count": 36,
   "metadata": {
    "colab": {
     "base_uri": "https://localhost:8080/"
    },
    "executionInfo": {
     "elapsed": 19,
     "status": "ok",
     "timestamp": 1687954904609,
     "user": {
      "displayName": "김찬우",
      "userId": "12278078749540262797"
     },
     "user_tz": -540
    },
    "id": "DejB3_bvLP9J",
    "outputId": "018b2ebe-0f30-47e4-900e-63e2b7340bc4"
   },
   "outputs": [
    {
     "data": {
      "text/plain": [
       "0.9604938554008616"
      ]
     },
     "execution_count": 36,
     "metadata": {},
     "output_type": "execute_result"
    }
   ],
   "source": [
    "from sklearn.metrics import roc_auc_score\n",
    "roc_auc_score(y_train_5, y_scores)"
   ]
  },
  {
   "cell_type": "code",
   "execution_count": 37,
   "metadata": {
    "executionInfo": {
     "elapsed": 15,
     "status": "ok",
     "timestamp": 1687954904609,
     "user": {
      "displayName": "김찬우",
      "userId": "12278078749540262797"
     },
     "user_tz": -540
    },
    "id": "D7vq-p6VLhYc"
   },
   "outputs": [],
   "source": [
    "from sklearn.ensemble import RandomForestClassifier"
   ]
  },
  {
   "cell_type": "code",
   "execution_count": 38,
   "metadata": {
    "executionInfo": {
     "elapsed": 64226,
     "status": "ok",
     "timestamp": 1687954968821,
     "user": {
      "displayName": "김찬우",
      "userId": "12278078749540262797"
     },
     "user_tz": -540
    },
    "id": "_qnDdF8pL8cu"
   },
   "outputs": [],
   "source": [
    "forest_clf = RandomForestClassifier(random_state=42)\n",
    "y_probas_forest = cross_val_predict(forest_clf, X_train, y_train_5, cv=3, method=\"predict_proba\")"
   ]
  },
  {
   "cell_type": "code",
   "execution_count": 39,
   "metadata": {
    "executionInfo": {
     "elapsed": 6,
     "status": "ok",
     "timestamp": 1687954968822,
     "user": {
      "displayName": "김찬우",
      "userId": "12278078749540262797"
     },
     "user_tz": -540
    },
    "id": "DXnI1gYTMiLk"
   },
   "outputs": [],
   "source": [
    "y_scores_forest = y_probas_forest[:, 1] #양성 클래스일 확률\n",
    "fpr_forest, tpr_forest, thresholds_forest = roc_curve(y_train_5, y_scores_forest)"
   ]
  },
  {
   "cell_type": "code",
   "execution_count": 40,
   "metadata": {
    "colab": {
     "base_uri": "https://localhost:8080/",
     "height": 455
    },
    "executionInfo": {
     "elapsed": 725,
     "status": "ok",
     "timestamp": 1687954969543,
     "user": {
      "displayName": "김찬우",
      "userId": "12278078749540262797"
     },
     "user_tz": -540
    },
    "id": "aDX_qyG2NP8q",
    "outputId": "ad02e5c4-be0d-494c-d7e0-3e357ab3bbcd"
   },
   "outputs": [
    {
     "data": {
      "image/png": "[encoded data removed]",
      "text/plain": [
       "<Figure size 640x480 with 1 Axes>"
      ]
     },
     "metadata": {},
     "output_type": "display_data"
    }
   ],
   "source": [
    "plt.plot(fpr, tpr, \"b:\", label=\"SGD\")\n",
    "plot_roc_curve(fpr_forest, tpr_forest, label=\"forest\")\n",
    "plt.legend()\n",
    "plt.show()"
   ]
  },
  {
   "cell_type": "code",
   "execution_count": 41,
   "metadata": {
    "colab": {
     "base_uri": "https://localhost:8080/"
    },
    "executionInfo": {
     "elapsed": 13,
     "status": "ok",
     "timestamp": 1687954969544,
     "user": {
      "displayName": "김찬우",
      "userId": "12278078749540262797"
     },
     "user_tz": -540
    },
    "id": "farJQUNVONrl",
    "outputId": "be3019b5-47d7-4e3b-e7d2-6a339419a065",
    "scrolled": true
   },
   "outputs": [
    {
     "data": {
      "text/plain": [
       "0.9983436731328145"
      ]
     },
     "execution_count": 41,
     "metadata": {},
     "output_type": "execute_result"
    }
   ],
   "source": [
    "roc_auc_score(y_train_5, y_scores_forest)"
   ]
  },
  {
   "cell_type": "markdown",
   "metadata": {
    "id": "qiUcSObmwwYD"
   },
   "source": [
    "# 다중 분류"
   ]
  },
  {
   "cell_type": "markdown",
   "metadata": {
    "id": "npRe_7vkxMKk"
   },
   "source": [
    "SGD 분류기, random forest 분류기, naive Bayes 분류기:여러개의 클래스 직접 처리 가능.  \n",
    "로지스틱 회귀, SVM: 이진 분류만 가능.  \n",
    "이진 분류기를 여러 개 사용해 다중 분류 가능.  \n",
    "- OvR(OvA): 각 숫자별로 이진 분류기를 하나씩 훈련시켜 가장 결정 점수가 높은 것 선택\n",
    "- OvO: 0과 1, 1과 2 처럼 각 숫자의 조합마다 이진 분류기를 훈련시켜 가장 많이 양성으로 분류된 클래스 선택"
   ]
  },
  {
   "cell_type": "code",
   "execution_count": 42,
   "metadata": {
    "colab": {
     "base_uri": "https://localhost:8080/"
    },
    "executionInfo": {
     "elapsed": 225217,
     "status": "ok",
     "timestamp": 1687955194757,
     "user": {
      "displayName": "김찬우",
      "userId": "12278078749540262797"
     },
     "user_tz": -540
    },
    "id": "80uQWwKRwy12",
    "outputId": "61302640-4861-4b25-efb6-deb71526bcd3"
   },
   "outputs": [],
   "source": [
    "#이진 분류 알고리즘을 다중 클래스 분류 작업에 사용하면 자동으로 OvO 또는 OvR을 선택\n",
    "from sklearn.svm import SVC\n",
    "\n",
    "svm_clf = SVC()"
   ]
  },
  {
   "cell_type": "code",
   "execution_count": null,
   "metadata": {},
   "outputs": [],
   "source": [
    "svm_clf.fit(X_train, y_train) #다중 분류이기 떄문에 y_train_5 말고 y_train 사용\n",
    "svm_clf.predict([some_digit])"
   ]
  },
  {
   "cell_type": "code",
   "execution_count": null,
   "metadata": {
    "colab": {
     "base_uri": "https://localhost:8080/"
    },
    "executionInfo": {
     "elapsed": 23,
     "status": "ok",
     "timestamp": 1687955194758,
     "user": {
      "displayName": "김찬우",
      "userId": "12278078749540262797"
     },
     "user_tz": -540
    },
    "id": "utbiTv-m4QC3",
    "outputId": "3034587a-c3ab-4aef-f8f2-5e1ff0ce7cd7"
   },
   "outputs": [],
   "source": [
    "some_digit_scores = svm_clf.decision_function([some_digit])\n",
    "some_digit_scores"
   ]
  },
  {
   "cell_type": "code",
   "execution_count": null,
   "metadata": {
    "colab": {
     "base_uri": "https://localhost:8080/"
    },
    "executionInfo": {
     "elapsed": 18,
     "status": "ok",
     "timestamp": 1687955194758,
     "user": {
      "displayName": "김찬우",
      "userId": "12278078749540262797"
     },
     "user_tz": -540
    },
    "id": "ujB4bjpi4fSz",
    "outputId": "f0fdb32c-edad-49ac-cc37-307095870639"
   },
   "outputs": [],
   "source": [
    "np.argmax(some_digit_scores)"
   ]
  },
  {
   "cell_type": "code",
   "execution_count": null,
   "metadata": {
    "colab": {
     "base_uri": "https://localhost:8080/"
    },
    "executionInfo": {
     "elapsed": 11,
     "status": "ok",
     "timestamp": 1687955194758,
     "user": {
      "displayName": "김찬우",
      "userId": "12278078749540262797"
     },
     "user_tz": -540
    },
    "id": "BxAgAzeQ4lE_",
    "outputId": "aade77bd-3914-47b0-ca02-beec55049337"
   },
   "outputs": [],
   "source": [
    "svm_clf.classes_"
   ]
  },
  {
   "cell_type": "code",
   "execution_count": null,
   "metadata": {
    "id": "K4zGr-3i4wXV"
   },
   "outputs": [],
   "source": [
    "#OneVsOneClassifier, OneVsRestClassifier 를 통해서 OvO, OvR 설정 가능\n",
    "\n",
    "from sklearn.multiclass import OneVsRestClassifier\n",
    "ovr_clf = OneVsRestClassifier(SVC())\n",
    "ovr_clf.fit(X_train, y_train)\n",
    "ovr_clf.predict([some_digit])"
   ]
  },
  {
   "cell_type": "code",
   "execution_count": null,
   "metadata": {},
   "outputs": [],
   "source": [
    "len(ovr_clf.estimators_)"
   ]
  },
  {
   "cell_type": "code",
   "execution_count": 42,
   "metadata": {
    "id": "Qfrrb8NMAXZx"
   },
   "outputs": [
    {
     "data": {
      "text/plain": [
       "array([3], dtype=uint8)"
      ]
     },
     "execution_count": 42,
     "metadata": {},
     "output_type": "execute_result"
    }
   ],
   "source": [
    "#sgd 분류기는 바로 다중 분류가 가능\n",
    "sgd_clf.fit(X_train, y_train)\n",
    "sgd_clf.predict([some_digit])"
   ]
  },
  {
   "cell_type": "code",
   "execution_count": 43,
   "metadata": {},
   "outputs": [
    {
     "data": {
      "text/plain": [
       "array([[-31893.03095419, -34419.69069632,  -9530.63950739,\n",
       "          1823.73154031, -22320.14822878,  -1385.80478895,\n",
       "        -26188.91070951, -16147.51323997,  -4604.35491274,\n",
       "        -12050.767298  ]])"
      ]
     },
     "execution_count": 43,
     "metadata": {},
     "output_type": "execute_result"
    }
   ],
   "source": [
    "sgd_clf.decision_function([some_digit])"
   ]
  },
  {
   "cell_type": "code",
   "execution_count": null,
   "metadata": {},
   "outputs": [],
   "source": [
    "cross_val_score(sgd_clf, X_train, y_train, cv=3, scoring=\"accuracy\",n_jobs=-1)"
   ]
  },
  {
   "cell_type": "markdown",
   "metadata": {},
   "source": [
    "표준화 스케일링으로 정확도 올리기"
   ]
  },
  {
   "cell_type": "code",
   "execution_count": 56,
   "metadata": {},
   "outputs": [],
   "source": [
    "from sklearn.preprocessing import StandardScaler\n",
    "\n",
    "scaler = StandardScaler()\n",
    "X_train_scaled = scaler.fit_transform(X_train.astype(np.float64))"
   ]
  },
  {
   "cell_type": "code",
   "execution_count": null,
   "metadata": {},
   "outputs": [],
   "source": [
    "cross_val_score(sgd_clf, X_train_scaled, y_train, cv=3, scoring=\"accuracy\", n_jobs=-1)"
   ]
  },
  {
   "cell_type": "markdown",
   "metadata": {},
   "source": [
    "# 에러 분석"
   ]
  },
  {
   "cell_type": "markdown",
   "metadata": {},
   "source": [
    "### 오차행렬 이용"
   ]
  },
  {
   "cell_type": "code",
   "execution_count": null,
   "metadata": {},
   "outputs": [],
   "source": [
    "y_train_pred = cross_val_predict(sgd_clf, X_train_scaeld, y_train, cv=3)\n",
    "conf_mx = confusion_matrix(y_train, y_train_pred)"
   ]
  },
  {
   "cell_type": "code",
   "execution_count": null,
   "metadata": {},
   "outputs": [],
   "source": []
  },
  {
   "cell_type": "markdown",
   "metadata": {},
   "source": []
  }
 ],
 "metadata": {
  "accelerator": "GPU",
  "colab": {
   "authorship_tag": "ABX9TyPp9oX24a3/a2kf/6HGTeJ/",
   "gpuType": "T4",
   "provenance": []
  },
  "kernelspec": {
   "display_name": "Python 3 (ipykernel)",
   "language": "python",
   "name": "python3"
  },
  "language_info": {
   "codemirror_mode": {
    "name": "ipython",
    "version": 3
   },
   "file_extension": ".py",
   "mimetype": "text/x-python",
   "name": "python",
   "nbconvert_exporter": "python",
   "pygments_lexer": "ipython3",
   "version": "3.11.4"
  }
 },
 "nbformat": 4,
 "nbformat_minor": 1
}
